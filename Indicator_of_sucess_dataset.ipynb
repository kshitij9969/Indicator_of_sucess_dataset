{
  "nbformat": 4,
  "nbformat_minor": 0,
  "metadata": {
    "colab": {
      "name": "Indicator_of_sucess_dataset.ipynb",
      "provenance": [],
      "collapsed_sections": [],
      "authorship_tag": "ABX9TyP3zgGebUAhGB33CptXxTHU",
      "include_colab_link": true
    },
    "kernelspec": {
      "name": "python3",
      "display_name": "Python 3"
    },
    "language_info": {
      "name": "python"
    }
  },
  "cells": [
    {
      "cell_type": "markdown",
      "metadata": {
        "id": "view-in-github",
        "colab_type": "text"
      },
      "source": [
        "<a href=\"https://colab.research.google.com/github/kshitij9969/Indicator_of_sucess_dataset/blob/main/Indicator_of_sucess_dataset.ipynb\" target=\"_parent\"><img src=\"https://colab.research.google.com/assets/colab-badge.svg\" alt=\"Open In Colab\"/></a>"
      ]
    },
    {
      "cell_type": "code",
      "execution_count": null,
      "metadata": {
        "id": "3x9hQzWkCV8a"
      },
      "outputs": [],
      "source": [
        "import numpy as np\n",
        "import pandas as pd\n",
        "from bs4 import BeautifulSoup\n",
        "import requests"
      ]
    },
    {
      "cell_type": "code",
      "source": [
        "# To do: \n",
        "# Two types of data needs to be extracted\n",
        "# 1. Indexes\n",
        "# 2. True values\n",
        "\n",
        "# 1. Cost of living index by city\n",
        "# 2. Cost of living index by country\n",
        "# 3. Property price index\n",
        "# 4. Quality of life index\n",
        "# 5. Crime index\n",
        "# 6. Health care index\n",
        "# 7. Pollution index\n",
        "# 8. Traffic index\n",
        "# 9. \n",
        "\n",
        "\n",
        "# 3. Cost of living estimator by city\n",
        "# 4. Food prices by city\n",
        "# 5. Food prices by country\n",
        "# 6. Prices of other commodity by city and country\n",
        "# 7. Basket of prices by city\n",
        "# 8. Taxi fare by city\n",
        "# 9. Gas prices by city\n"
      ],
      "metadata": {
        "id": "ysqfm0ZEjZrm"
      },
      "execution_count": null,
      "outputs": []
    },
    {
      "cell_type": "markdown",
      "source": [
        "# Cost of living index\n",
        "\n",
        "### Cost of living index over the years. "
      ],
      "metadata": {
        "id": "ebCgZ-JeF_X2"
      }
    },
    {
      "cell_type": "code",
      "source": [
        "response = requests.get(\"https://www.numbeo.com/cost-of-living/rankings.jsp\")"
      ],
      "metadata": {
        "id": "IO2nzA_ACuNJ"
      },
      "execution_count": null,
      "outputs": []
    },
    {
      "cell_type": "code",
      "source": [
        "df = pd.read_html(response.text)"
      ],
      "metadata": {
        "id": "ltyBnHXoHj-4"
      },
      "execution_count": null,
      "outputs": []
    },
    {
      "cell_type": "code",
      "source": [
        "df"
      ],
      "metadata": {
        "id": "gimEa2-HHu6l"
      },
      "execution_count": null,
      "outputs": []
    },
    {
      "cell_type": "code",
      "source": [
        "soup = BeautifulSoup(response.text, 'html.parser')"
      ],
      "metadata": {
        "id": "nmWVT-MEHvJa"
      },
      "execution_count": null,
      "outputs": []
    },
    {
      "cell_type": "code",
      "source": [
        "table = soup.find(\"table\", attrs={\"id\": \"t2\"})"
      ],
      "metadata": {
        "id": "hO-xqtzaH5hN"
      },
      "execution_count": null,
      "outputs": []
    },
    {
      "cell_type": "code",
      "source": [
        "df = pd.read_html(str(table))[0]"
      ],
      "metadata": {
        "id": "IIzoaUf-IFVG"
      },
      "execution_count": null,
      "outputs": []
    },
    {
      "cell_type": "code",
      "source": [
        "# Cleaning columns\n",
        "\n",
        "for col in df.columns:\n",
        "    df.rename(columns={col: \"_\".join(col.split(\" \"))}, inplace=True)\n"
      ],
      "metadata": {
        "id": "CYavwSE1IGM2"
      },
      "execution_count": null,
      "outputs": []
    },
    {
      "cell_type": "code",
      "source": [
        "# Split city and country\n",
        "\n",
        "df['Country'] = df['City'].apply(lambda x: x.split(\", \")[-1].strip())"
      ],
      "metadata": {
        "id": "B7XzaqFHITXO"
      },
      "execution_count": null,
      "outputs": []
    },
    {
      "cell_type": "code",
      "source": [
        "df['City'] = df['City'].apply(lambda x: x.split(\", \")[0].strip())"
      ],
      "metadata": {
        "id": "_FqOV_YkJbiz"
      },
      "execution_count": null,
      "outputs": []
    },
    {
      "cell_type": "code",
      "source": [
        "df.reset_index(inplace=True)"
      ],
      "metadata": {
        "id": "NrVaCBRAK27J"
      },
      "execution_count": null,
      "outputs": []
    },
    {
      "cell_type": "code",
      "source": [
        "df['Rank'] = df['index']"
      ],
      "metadata": {
        "id": "X4-CjcOxMISr"
      },
      "execution_count": null,
      "outputs": []
    },
    {
      "cell_type": "code",
      "source": [
        "df.drop(columns=['index'], inplace=True)"
      ],
      "metadata": {
        "id": "5UeBHl_4MSvw"
      },
      "execution_count": null,
      "outputs": []
    },
    {
      "cell_type": "code",
      "source": [
        "df['Rank'] = df['Rank'].apply(lambda x: x + 1)"
      ],
      "metadata": {
        "id": "UMRbmHOuMXT2"
      },
      "execution_count": null,
      "outputs": []
    },
    {
      "cell_type": "code",
      "source": [
        "df['Year'] = 2021\n",
        "df['Month'] = 6\n",
        "df['Day'] = 1"
      ],
      "metadata": {
        "id": "iqa3MhePMdJp"
      },
      "execution_count": null,
      "outputs": []
    },
    {
      "cell_type": "code",
      "source": [
        "df['Date'] = pd.to_datetime(df[['Year', 'Month', 'Day']])"
      ],
      "metadata": {
        "id": "MqmrCZtIMihg"
      },
      "execution_count": null,
      "outputs": []
    },
    {
      "cell_type": "code",
      "source": [
        "from requests.api import request\n",
        "# Now collect for all other years and months\n",
        "\n",
        "# Country links: \n",
        "links = [\n",
        "         (\"https://www.numbeo.com/cost-of-living/region_rankings.jsp?title=2021&region=002\", \"Africa\"), # Africa\n",
        "         (\"https://www.numbeo.com/cost-of-living/region_rankings.jsp?title=2021&region=019\", \"America\"), # America\n",
        "         (\"https://www.numbeo.com/cost-of-living/region_rankings.jsp?title=2021&region=142\", \"Asia\"), # Asia\n",
        "         (\"https://www.numbeo.com/cost-of-living/region_rankings.jsp?title=2021&region=150\", \"Europe\"), # Europe\n",
        "         (\"https://www.numbeo.com/cost-of-living/region_rankings.jsp?title=2021&region=009\", \"Oceania\") # Oceania\n",
        "]\n",
        "\n",
        "# Collecting links for regions\n",
        "\n",
        "final_dataframe = pd.DataFrame(columns=['Rank', 'City', 'Country', \n",
        "                                        'Continent', 'Region', \n",
        "                                        'Cost_of_Living_Index', 'Rent_Index',\n",
        "                                        'Cost_of_Living_Plus_Rent_Index', \n",
        "                                        'Groceries_Index', \n",
        "                                        'Restaurant_Price_Index', \n",
        "                                        'Local_Purchasing_Power_Index', 'Year', \n",
        "                                        'Month', 'Day', 'Date'])\n",
        "\n",
        "years_list = ['2021-mid', '2021', '2020-mid', '2020', '2019-mid', '2019', '2018-mid', '2018', '2017-mid', '2017', '2016-mid', '2016', '2015-mid', '2015', '2014-mid', '2014', '2013', '2012', '2011', '2010', '2009']\n",
        "\n",
        "for (i, continent) in links:\n",
        "    res = requests.get(i)\n",
        "    soup = BeautifulSoup(res.text)\n",
        "    try:\n",
        "        spans = soup.find(\"div\", attrs={\"class\": \"select_region_links\"}).find_all(\"span\", attrs={\"class\": \"nobreak\"})\n",
        "    except Exception as e:\n",
        "        # Oceania doesn't have any regions\n",
        "        print(e)\n",
        "        print(i)\n",
        "    print(spans)\n",
        "    for span in spans:\n",
        "        url = span.find(\"a\", href=True)['href']\n",
        "        resp = requests.get(url)\n",
        "        soup1 = BeautifulSoup(resp.text)\n",
        "        # years_list = [i['value'] for i in soup1.find_all(\"form\", attrs={\"class\": \"changePageForm\"})[0].find(\"select\").find_all(\"option\")]\n",
        "        # print(resp.text)\n",
        "        table = soup.find(\"table\", attrs={\"id\": \"t2\"})\n",
        "        df = pd.read_html(str(table))[0]\n",
        "        # Clean columns\n",
        "        for col in df.columns:\n",
        "            df.rename(columns={col: \"_\".join(col.split(\" \"))}, inplace=True)\n",
        "        \n",
        "        # Correct Rank\n",
        "        df.reset_index(inplace=True)\n",
        "        df['Rank'] = df['index']\n",
        "        df['Rank'] = df['Rank'].apply(lambda x: x + 1)\n",
        "        df.drop(columns=['index'], inplace=True)\n",
        "        # Add month year and day\n",
        "        df['Year'] = 2021\n",
        "        df['Month'] = 1\n",
        "        df['Day'] = 1\n",
        "\n",
        "        df['Date'] = pd.to_datetime(df[['Year', 'Month', 'Day']])\n",
        "        # Add country and continent\n",
        "        df['Country'] = df['City'].apply(lambda x: x.split(\",\")[-1].strip())\n",
        "        df['City'] = df['City'].apply(lambda x: x.split(\",\")[0].strip())\n",
        "        df['Continent'] = continent\n",
        "        df['Region'] = soup1.find(\"h1\").text.split(\":\")[0].strip()\n",
        "        print(url)\n",
        "        print(years_list)\n",
        "    break\n",
        "        # print(url)\n",
        "        # print(years_list)\n",
        "        # region_name = soup1.find(\"h1\").text.split(\":\")[0].strip()\n",
        "        # print(region_name)\n",
        "\n",
        "\n",
        "\n",
        "\n"
      ],
      "metadata": {
        "id": "8w52NS1qNCJV"
      },
      "execution_count": null,
      "outputs": []
    },
    {
      "cell_type": "code",
      "source": [
        "from requests.api import request\n",
        "# Now collect for all other years and months\n",
        "\n",
        "# Country links: \n",
        "links = [\n",
        "         (\"https://www.numbeo.com/cost-of-living/region_rankings.jsp?title=year&region=002\", \"Africa\"), # Africa\n",
        "         (\"https://www.numbeo.com/cost-of-living/region_rankings.jsp?title=year&region=019\", \"America\"), # America\n",
        "         (\"https://www.numbeo.com/cost-of-living/region_rankings.jsp?title=year&region=142\", \"Asia\"), # Asia\n",
        "         (\"https://www.numbeo.com/cost-of-living/region_rankings.jsp?title=year&region=150\", \"Europe\"), # Europe\n",
        "         (\"https://www.numbeo.com/cost-of-living/region_rankings.jsp?title=year&region=009\", \"Oceania\") # Oceania\n",
        "]\n",
        "\n",
        "# Collecting links for regions\n",
        "\n",
        "final_dataframe = pd.DataFrame(columns=['Rank', 'City', 'Country', \n",
        "                                        'Continent', 'Region', \n",
        "                                        'Cost_of_Living_Index', 'Rent_Index',\n",
        "                                        'Cost_of_Living_Plus_Rent_Index', \n",
        "                                        'Groceries_Index', \n",
        "                                        'Restaurant_Price_Index', \n",
        "                                        'Local_Purchasing_Power_Index', 'Year', \n",
        "                                        'Month', 'Day', 'Date'])\n",
        "\n",
        "years_list = ['2021-mid', '2021', '2020-mid', '2020', '2019-mid', '2019', \n",
        "              '2018-mid', '2018', '2017-mid', '2017', '2016-mid', '2016', \n",
        "              '2015-mid', '2015', '2014-mid', '2014', '2013', '2012', \n",
        "              '2011', '2010', '2009']\n",
        "url_list = []\n",
        "\n",
        "for year in years_list:\n",
        "    for (i, continent) in links:\n",
        "        res = requests.get(i.replace(\"year\", year))\n",
        "        soup = BeautifulSoup(res.text)\n",
        "        try:\n",
        "            spans = soup.find(\"div\", attrs={\"class\": \"select_region_links\"}).find_all(\"span\", attrs={\"class\": \"nobreak\"})\n",
        "        except Exception as e:\n",
        "            # Oceania doesn't have any regions\n",
        "            print(e)\n",
        "            print(i)\n",
        "        for span in spans:\n",
        "            url = span.find(\"a\", href=True)['href']\n",
        "            url_list.append(url)\n",
        "print(url_list)\n",
        "\n",
        "\n"
      ],
      "metadata": {
        "id": "oJgOJzxjNVoy"
      },
      "execution_count": null,
      "outputs": []
    },
    {
      "cell_type": "code",
      "source": [
        "url_list"
      ],
      "metadata": {
        "id": "llNrTq3rioe7"
      },
      "execution_count": null,
      "outputs": []
    },
    {
      "cell_type": "code",
      "source": [
        "final_dataframe = pd.DataFrame(columns=['Rank', 'City', 'Country', \n",
        "                                        'Continent', 'Region', \n",
        "                                        'Cost_of_Living_Index', 'Rent_Index',\n",
        "                                        'Cost_of_Living_Plus_Rent_Index', \n",
        "                                        'Groceries_Index', \n",
        "                                        'Restaurant_Price_Index', \n",
        "                                        'Local_Purchasing_Power_Index', 'Year', \n",
        "                                        'Month', 'Day', 'Date', 'URL'])\n",
        "for url in url_list:\n",
        "    resp = requests.get(url)\n",
        "    print(url)\n",
        "    soup1 = BeautifulSoup(resp.text)\n",
        "    # years_list = [i['value'] for i in soup1.find_all(\"form\", attrs={\"class\": \"changePageForm\"})[0].find(\"select\").find_all(\"option\")]\n",
        "    # print(resp.text)\n",
        "    table = soup1.find(\"table\", attrs={\"id\": \"t2\"})\n",
        "    df = pd.read_html(str(table))[0]\n",
        "    # Clean columns\n",
        "    for col in df.columns:\n",
        "        df.rename(columns={col: \"_\".join(col.split(\" \"))}, inplace=True)\n",
        "    \n",
        "    # Correct Rank\n",
        "    df.reset_index(inplace=True)\n",
        "    df['Rank'] = df['index']\n",
        "    df['Rank'] = df['Rank'].apply(lambda x: x + 1)\n",
        "    df.drop(columns=['index'], inplace=True)\n",
        "    year = url.split(\"?\")[-1].split(\"&\")[0].split(\"=\")[-1]\n",
        "    if \"mid\" in year:\n",
        "        year = int(year.split(\"-\")[0].strip())\n",
        "        month = 6\n",
        "    else:\n",
        "        year = int(year)\n",
        "        month = 1\n",
        "    # Add month year and day\n",
        "    df['Year'] = year\n",
        "    df['Month'] = month\n",
        "    df['Day'] = 1\n",
        "\n",
        "    df['Date'] = pd.to_datetime(df[['Year', 'Month', 'Day']])\n",
        "    # Add country and continent\n",
        "    df['Country'] = df['City'].apply(lambda x: x.split(\",\")[-1].strip())\n",
        "    df['City'] = df['City'].apply(lambda x: x.split(\",\")[0].strip())\n",
        "    df['Continent'] = continent\n",
        "    df['Region'] = soup1.find(\"h1\").text.split(\":\")[0].strip()\n",
        "    df['URL'] = url\n",
        "    # print(df)\n",
        "    final_dataframe = final_dataframe.append(df)\n",
        "\n"
      ],
      "metadata": {
        "id": "-tZJi40M_oCl"
      },
      "execution_count": null,
      "outputs": []
    },
    {
      "cell_type": "code",
      "source": [
        "final_dataframe[final_dataframe.Year == 2015]"
      ],
      "metadata": {
        "id": "pzAJnoEn_5E9"
      },
      "execution_count": null,
      "outputs": []
    },
    {
      "cell_type": "code",
      "source": [
        "# Correcting the Continent\n",
        "\n",
        "\n",
        "def get_continent(x):\n",
        "    if \"Africa\" in x:\n",
        "        return \"Africa\"\n",
        "    elif \"America\" in x:\n",
        "        return \"America\"\n",
        "    elif \"Oceania\" in x:\n",
        "        return \"Oceania\"\n",
        "    elif \"Asia\" in x:\n",
        "        return \"Asia\"\n",
        "    else:\n",
        "        return \"Europe\"\n",
        "\n",
        "final_dataframe['Continent'] = final_dataframe['Region'].apply(lambda x: get_continent(x))"
      ],
      "metadata": {
        "id": "TPeMo5Py_58-"
      },
      "execution_count": null,
      "outputs": []
    },
    {
      "cell_type": "code",
      "source": [
        "final_dataframe[(final_dataframe.City == \"Aachen\") & (final_dataframe.duplicated() == True)].sort_values(by=\"City\")"
      ],
      "metadata": {
        "id": "V2wjArKCEB-U"
      },
      "execution_count": null,
      "outputs": []
    },
    {
      "cell_type": "code",
      "source": [
        "final_dataframe.reset_index(drop=True, inplace=True)"
      ],
      "metadata": {
        "id": "Xdzq8pp_EC4c"
      },
      "execution_count": null,
      "outputs": []
    },
    {
      "cell_type": "code",
      "source": [
        "final_dataframe.drop_duplicates(subset=['City', 'Country', 'Continent', 'Region', 'Year', 'Month', 'Day', 'Date'])"
      ],
      "metadata": {
        "id": "xCbBnc9XSZsF"
      },
      "execution_count": null,
      "outputs": []
    },
    {
      "cell_type": "code",
      "source": [
        "final_dataframe.to_csv(\"Cost_of_living_index.csv\", index=False)"
      ],
      "metadata": {
        "id": "QghGRLqhT-Zl"
      },
      "execution_count": null,
      "outputs": []
    },
    {
      "cell_type": "code",
      "source": [
        ""
      ],
      "metadata": {
        "id": "yQCJ-uH8Ugy3"
      },
      "execution_count": null,
      "outputs": []
    },
    {
      "cell_type": "code",
      "source": [
        ""
      ],
      "metadata": {
        "id": "H2tCoY-aUpsN"
      },
      "execution_count": null,
      "outputs": []
    }
  ]
}